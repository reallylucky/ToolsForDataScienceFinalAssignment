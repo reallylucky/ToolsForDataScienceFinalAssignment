{
 "cells": [
  {
   "cell_type": "markdown",
   "id": "3af4a12e",
   "metadata": {},
   "source": [
    "# Data Science Tools and Ecosystem"
   ]
  },
  {
   "cell_type": "markdown",
   "id": "24d39cee",
   "metadata": {},
   "source": [
    "In this notebook, Data Science Tools and Ecosystem are summarized."
   ]
  },
  {
   "cell_type": "markdown",
   "id": "c22be444",
   "metadata": {},
   "source": [
    "**Objectives:**\n",
    "- List popular languages for Data Science\n",
    "- List data science libraries\n",
    "- List data science tools"
   ]
  },
  {
   "cell_type": "markdown",
   "id": "3b446662",
   "metadata": {},
   "source": [
    "Some of the popular languages that Data Scientists use are:\n",
    "1. Python\n",
    "2. R\n",
    "3. Scala"
   ]
  },
  {
   "cell_type": "markdown",
   "id": "8c29bfbd",
   "metadata": {},
   "source": [
    "Some of the commonly used libraries used by Data Scientists include:\n",
    "1. ggplot2\n",
    "2. dplyr\n",
    "3. stringr"
   ]
  },
  {
   "cell_type": "markdown",
   "id": "798d22c9",
   "metadata": {},
   "source": [
    "|Data Science Tools|\n",
    "|--------------------|\n",
    "| RStudio|\n",
    "| Apache Spark|\n",
    "| TensorFlow|"
   ]
  },
  {
   "cell_type": "markdown",
   "id": "ee5ac939",
   "metadata": {},
   "source": [
    "### Below are a few examples of evaluting arithmetic expressions in Python"
   ]
  },
  {
   "cell_type": "code",
   "execution_count": 1,
   "id": "2585d67d",
   "metadata": {
    "scrolled": true
   },
   "outputs": [
    {
     "data": {
      "text/plain": [
       "17"
      ]
     },
     "execution_count": 1,
     "metadata": {},
     "output_type": "execute_result"
    }
   ],
   "source": [
    "# This is a simple arithmetic expression to mutiply then add integers\n",
    "(3*4)+5"
   ]
  },
  {
   "cell_type": "code",
   "execution_count": 3,
   "id": "689a274a",
   "metadata": {},
   "outputs": [
    {
     "data": {
      "text/plain": [
       "3.3333333333333335"
      ]
     },
     "execution_count": 3,
     "metadata": {},
     "output_type": "execute_result"
    }
   ],
   "source": [
    "# This will convert 200 minutes to hours by diving by 60.\n",
    "200/60"
   ]
  },
  {
   "cell_type": "markdown",
   "id": "0b83c911",
   "metadata": {},
   "source": [
    "## Author\n",
    "Kai Sun Luk"
   ]
  },
  {
   "cell_type": "code",
   "execution_count": null,
   "id": "e4d35006",
   "metadata": {},
   "outputs": [],
   "source": []
  }
 ],
 "metadata": {
  "kernelspec": {
   "display_name": "Python 3 (ipykernel)",
   "language": "python",
   "name": "python3"
  },
  "language_info": {
   "codemirror_mode": {
    "name": "ipython",
    "version": 3
   },
   "file_extension": ".py",
   "mimetype": "text/x-python",
   "name": "python",
   "nbconvert_exporter": "python",
   "pygments_lexer": "ipython3",
   "version": "3.8.2"
  }
 },
 "nbformat": 4,
 "nbformat_minor": 5
}
